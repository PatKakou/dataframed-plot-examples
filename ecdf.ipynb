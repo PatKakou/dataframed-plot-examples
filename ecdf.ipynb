{
 "cells": [
  {
   "cell_type": "markdown",
   "metadata": {},
   "source": [
    "# Example ECDF plots"
   ]
  },
  {
   "cell_type": "code",
   "execution_count": 1,
   "metadata": {},
   "outputs": [],
   "source": [
    "import pandas as pd\n",
    "import numpy as np\n",
    "import seaborn as sns\n",
    "\n",
    "import matplotlib.pyplot as plt\n",
    "%matplotlib inline"
   ]
  },
  {
   "cell_type": "markdown",
   "metadata": {},
   "source": [
    "<br />"
   ]
  },
  {
   "cell_type": "markdown",
   "metadata": {},
   "source": [
    "### Load the data set"
   ]
  },
  {
   "cell_type": "code",
   "execution_count": 2,
   "metadata": {},
   "outputs": [],
   "source": [
    "df = pd.read_csv('data/finch_beaks_2012.csv', comment='#')\n",
    "\n",
    "# Delete any birds measured more than onece\n",
    "df = df.drop_duplicates('band')"
   ]
  },
  {
   "cell_type": "markdown",
   "metadata": {},
   "source": [
    "<br />"
   ]
  },
  {
   "cell_type": "markdown",
   "metadata": {},
   "source": [
    "### Function to make x and y values for ECDF plots"
   ]
  },
  {
   "cell_type": "code",
   "execution_count": 3,
   "metadata": {},
   "outputs": [],
   "source": [
    "def ecdf(data, formal=False, x_range=None):\n",
    "    \"\"\"\n",
    "    Get x, y, values of an ECDF for plotting.\n",
    "\n",
    "    Parameters\n",
    "    ----------\n",
    "    data : ndarray\n",
    "        One dimensional Numpay array with data.\n",
    "    formal : bool, default False\n",
    "        If True, generate x and y values for formal ECDF (staircase). If\n",
    "        False, generate x and y values for ECDF as dots.\n",
    "    x_range : 2-tuple, default None\n",
    "        If not None and `formal` is True, then specifies range of plot\n",
    "        on x-axis.\n",
    "\n",
    "    Returns\n",
    "    -------\n",
    "    x : ndarray\n",
    "        x-values for plot\n",
    "    y : ndarray\n",
    "        y-values for plot\n",
    "    \"\"\"\n",
    "    x = np.sort(data)\n",
    "    y = np.arange(1, len(data)+1) / len(data)\n",
    "\n",
    "    if formal:\n",
    "        # Set up output arrays\n",
    "        x_formal = np.empty(2*(len(x) + 1))\n",
    "        y_formal = np.empty(2*(len(x) + 1))\n",
    "\n",
    "        # y-values for steps\n",
    "        y_formal[:2] = 0\n",
    "        y_formal[2::2] = y\n",
    "        y_formal[3::2] = y\n",
    "\n",
    "        # x- values for steps\n",
    "        x_formal[0] = x[0]\n",
    "        x_formal[1] = x[0]\n",
    "        x_formal[2::2] = x\n",
    "        x_formal[3:-1:2] = x[1:]\n",
    "        x_formal[-1] = x[-1]\n",
    "        \n",
    "        if x_range is not None:\n",
    "            if np.all(x >= x_range[0]) and np.all(x <= x_range[1]):\n",
    "                x_formal = np.concatenate(((x_range[0],), x_formal, (x_range[1],)))\n",
    "                y_formal = np.concatenate(((0,), y_formal, (1,)))\n",
    "            else:\n",
    "                raise RuntimeError('Some data values outside of `x_range`.')\n",
    "\n",
    "        return x_formal, y_formal\n",
    "    else:\n",
    "        return x, y"
   ]
  },
  {
   "cell_type": "markdown",
   "metadata": {},
   "source": [
    "<br />"
   ]
  },
  {
   "cell_type": "markdown",
   "metadata": {},
   "source": [
    "### Make an ECDF with dots"
   ]
  },
  {
   "cell_type": "code",
   "execution_count": 4,
   "metadata": {},
   "outputs": [
    {
     "data": {
      "image/png": "[encoded data removed]",
      "text/plain": [
       "<matplotlib.figure.Figure at 0x1a1d1222b0>"
      ]
     },
     "metadata": {},
     "output_type": "display_data"
    }
   ],
   "source": [
    "# Set up axes\n",
    "fig, ax = plt.subplots()\n",
    "ax.grid(color='#eeeeee')\n",
    "ax.set_xlabel('beak length (mm)')\n",
    "ax.set_ylabel('ECDF')\n",
    "\n",
    "# Plot ECDFs\n",
    "for species in ['fortis', 'scandens']:\n",
    "    ax.plot(*ecdf(df.loc[df['species']==species, 'blength']), '.', label=species)"
   ]
  },
  {
   "cell_type": "markdown",
   "metadata": {},
   "source": [
    "<br />"
   ]
  },
  {
   "cell_type": "markdown",
   "metadata": {},
   "source": [
    "### Make a formal ECDF plot"
   ]
  },
  {
   "cell_type": "code",
   "execution_count": 5,
   "metadata": {},
   "outputs": [
    {
     "data": {
      "image/png": "[encoded data removed]",
      "text/plain": [
       "<matplotlib.figure.Figure at 0x1a1d13beb8>"
      ]
     },
     "metadata": {},
     "output_type": "display_data"
    }
   ],
   "source": [
    "# Set up axes\n",
    "fig, ax = plt.subplots()\n",
    "ax.grid(color='#eeeeee')\n",
    "ax.set_xlim(8, 16)\n",
    "ax.set_xlabel('beak length (mm)')\n",
    "ax.set_ylabel('ECDF')\n",
    "\n",
    "# Plot ECDFs\n",
    "for species in ['fortis', 'scandens']:\n",
    "    ax.plot(*ecdf(df.loc[df['species']==species, 'blength'], formal=True, x_range=(8, 16)),\n",
    "            label=species)"
   ]
  }
 ],
 "metadata": {
  "kernelspec": {
   "display_name": "Python 3",
   "language": "python",
   "name": "python3"
  },
  "language_info": {
   "codemirror_mode": {
    "name": "ipython",
    "version": 3
   },
   "file_extension": ".py",
   "mimetype": "text/x-python",
   "name": "python",
   "nbconvert_exporter": "python",
   "pygments_lexer": "ipython3",
   "version": "3.6.4"
  }
 },
 "nbformat": 4,
 "nbformat_minor": 2
}
